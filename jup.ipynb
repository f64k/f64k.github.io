{
 "cells": [
  {
   "cell_type": "code",
   "execution_count": null,
   "metadata": {},
   "outputs": [],
   "source": [
    "# py -m pip install pandas scikit-learn nltk pymorphy2 pymystem3 dbfread seaborn\n",
    "#@title IMPORT\n",
    "import io,os,re,sys,math,time,uuid,ctypes,pickle,psutil,random,shutil,string,urllib,decimal,datetime,itertools,traceback,collections\n",
    "import matplotlib.pyplot as plt, seaborn as sns, plotly.express as px\n",
    "import numpy as np, pandas as pd\n",
    "\n",
    "import sklearn\n",
    "from sklearn import svm, neighbors, naive_bayes, neural_network, tree, ensemble, linear_model, discriminant_analysis, gaussian_process, manifold, cluster\n",
    "\n",
    "from collections import namedtuple\n",
    "from tqdm.auto import tqdm\n",
    "\n",
    "import platform\n",
    "print(platform.architecture())"
   ]
  }
 ],
 "metadata": {
  "language_info": {
   "name": "python"
  }
 },
 "nbformat": 4,
 "nbformat_minor": 2
}
